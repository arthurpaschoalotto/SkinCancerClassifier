{
 "cells": [
  {
   "cell_type": "code",
   "execution_count": 6,
   "metadata": {},
   "outputs": [],
   "source": [
    "import numpy as np\n",
    "import os #sistema operacional\n",
    "import PIL #manipulação de imagem\n",
    "import torch #aprendizado de maquina\n",
    "import pandas as pd #manipular tabelas\n",
    "import time"
   ]
  },
  {
   "cell_type": "code",
   "execution_count": 7,
   "metadata": {},
   "outputs": [
    {
     "name": "stdout",
     "output_type": "stream",
     "text": [
      "cpu\n"
     ]
    }
   ],
   "source": [
    "# Definindo dispositivo de hardware\n",
    "# if torch.cuda.is_available():\n",
    "#     device = torch.device('cuda')\n",
    "# else:\n",
    "device = torch.device('cpu')\n",
    "\n",
    "print(device)"
   ]
  },
  {
   "cell_type": "code",
   "execution_count": 8,
   "metadata": {},
   "outputs": [],
   "source": [
    "import torchvision\n",
    "from torchvision import datasets, models, transforms\n",
    "\n",
    "transforms_train = transforms.Compose([\n",
    "    transforms.Resize((224, 224)),   # must same as here\n",
    "    transforms.RandomResizedCrop(224),\n",
    "    transforms.RandomHorizontalFlip(), # data augmentation\n",
    "    transforms.ToTensor(),\n",
    "    transforms.Normalize([0.485, 0.456, 0.406], [0.229, 0.224, 0.225]) # normalization\n",
    "])\n",
    "transforms_test = transforms.Compose([\n",
    "    transforms.Resize((224, 224)),   # must same as here\n",
    "     transforms.CenterCrop((224, 224)),\n",
    "    transforms.ToTensor(),\n",
    "    transforms.Normalize([0.485, 0.456, 0.406], [0.229, 0.224, 0.225])\n",
    "])"
   ]
  },
  {
   "cell_type": "code",
   "execution_count": 9,
   "metadata": {},
   "outputs": [],
   "source": [
    "train_dir = \"/Datafol/trainfol/\"\n",
    "test_dir = \"/Datafol/testfol/\"\n",
    "train_classa_dir = \"/Datafol/trainfol/classafol/\"\n",
    "train_classb_dir = \"/Datafol/trainfol/classbfol/\"\n",
    "test_classa_dir = \"/Datafol/testfol/classafol/\"\n",
    "test_classb_dir = \"/Datafol/testfol/classbfol/\""
   ]
  },
  {
   "cell_type": "code",
   "execution_count": 11,
   "metadata": {},
   "outputs": [],
   "source": [
    "test_dir = ('/home/hub/Residencia/Projetos de treino/flowers/SPLIT_IMG/test/')\n",
    "train_dir = ('/home/hub/Residencia/Projetos de treino/flowers/SPLIT_IMG/train')\n",
    "train_dataset = datasets.ImageFolder(train_dir, transforms_train) \n",
    "test_dataset = datasets.ImageFolder(test_dir, transforms_test)\n",
    "\n",
    "train_dataloader = torch.utils.data.DataLoader(train_dataset, batch_size=12, shuffle=True, num_workers=1) \n",
    "test_dataloader = torch.utils.data.DataLoader(test_dataset, batch_size=12, shuffle=True, num_workers=1)"
   ]
  },
  {
   "cell_type": "code",
   "execution_count": 12,
   "metadata": {},
   "outputs": [
    {
     "name": "stdout",
     "output_type": "stream",
     "text": [
      "Treinar o tamanho do conjunto de dados: 2525\n",
      "Testar o tamanho do conjunto de dados: 1297\n",
      "Nomes de classe: ['-1', '-2', '0', '1', '2']\n"
     ]
    }
   ],
   "source": [
    "print('Treinar o tamanho do conjunto de dados:', len(train_dataset)) \n",
    "print('Testar o tamanho do conjunto de dados:', len(test_dataset))\n",
    "class_names = train_dataset.classes \n",
    "print('Nomes de classe:', class_names)"
   ]
  },
  {
   "cell_type": "code",
   "execution_count": 13,
   "metadata": {},
   "outputs": [
    {
     "name": "stderr",
     "output_type": "stream",
     "text": [
      "/home/hub/anaconda3/lib/python3.7/site-packages/torchvision/models/_utils.py:209: UserWarning: The parameter 'pretrained' is deprecated since 0.13 and will be removed in 0.15, please use 'weights' instead.\n",
      "  f\"The parameter '{pretrained_param}' is deprecated since 0.13 and will be removed in 0.15, \"\n",
      "/home/hub/anaconda3/lib/python3.7/site-packages/torchvision/models/_utils.py:223: UserWarning: Arguments other than a weight enum or `None` for 'weights' are deprecated since 0.13 and will be removed in 0.15. The current behavior is equivalent to passing `weights=ResNet18_Weights.IMAGENET1K_V1`. You can also use `weights=ResNet18_Weights.DEFAULT` to get the most up-to-date weights.\n",
      "  warnings.warn(msg)\n"
     ]
    }
   ],
   "source": [
    "import torch\n",
    "import torch.nn as nn\n",
    "import torch.optim as optim\n",
    "\n",
    "model = models.resnet18(pretrained=True)   # carrregando rede resnet18 model\n",
    "num_features = model.fc.in_features     # extraindo features da camada fc\n",
    "model.fc = nn.Linear(num_features, 5) # numero de classes\n",
    "model = model.to(device)  #  \n",
    "criterion = nn.CrossEntropyLoss()  #(set loss function)\n",
    "optimizer = optim.SGD(model.parameters(), lr=0.001, momentum=0.9)"
   ]
  },
  {
   "cell_type": "code",
   "execution_count": 14,
   "metadata": {
    "scrolled": true
   },
   "outputs": [
    {
     "name": "stdout",
     "output_type": "stream",
     "text": [
      "Epoch 0 running\n",
      "[Train #0] Loss: 0.7394 Acc: 70.9703% Time: 160.8488s\n",
      "[Test #0] Loss: 0.3560 Acc: 88.6662% Time: 189.9966s\n",
      "Epoch 1 running\n",
      "[Train #1] Loss: 0.4637 Acc: 84.0000% Time: 353.8276s\n",
      "[Test #1] Loss: 0.3084 Acc: 89.4372% Time: 383.8088s\n",
      "Epoch 2 running\n",
      "[Train #2] Loss: 0.3783 Acc: 86.7723% Time: 551.3200s\n",
      "[Test #2] Loss: 0.2753 Acc: 90.9021% Time: 578.3739s\n",
      "Epoch 3 running\n",
      "[Train #3] Loss: 0.3470 Acc: 87.3663% Time: 728.6356s\n",
      "[Test #3] Loss: 0.2739 Acc: 91.2876% Time: 755.4072s\n",
      "Epoch 4 running\n",
      "[Train #4] Loss: 0.3139 Acc: 88.3960% Time: 904.7699s\n",
      "[Test #4] Loss: 0.2970 Acc: 89.7456% Time: 932.0741s\n",
      "Epoch 5 running\n",
      "[Train #5] Loss: 0.2873 Acc: 89.7030% Time: 1078.2443s\n",
      "[Test #5] Loss: 0.2956 Acc: 90.7479% Time: 1105.4429s\n",
      "Epoch 6 running\n",
      "[Train #6] Loss: 0.2808 Acc: 90.4158% Time: 1251.7115s\n",
      "[Test #6] Loss: 0.2819 Acc: 90.8250% Time: 1277.2077s\n",
      "Epoch 7 running\n",
      "[Train #7] Loss: 0.2594 Acc: 90.4950% Time: 1420.6523s\n",
      "[Test #7] Loss: 0.2955 Acc: 91.0563% Time: 1446.2325s\n",
      "Epoch 8 running\n",
      "[Train #8] Loss: 0.2372 Acc: 91.6832% Time: 1592.9955s\n",
      "[Test #8] Loss: 0.2939 Acc: 90.5937% Time: 1619.5229s\n",
      "Epoch 9 running\n",
      "[Train #9] Loss: 0.2390 Acc: 91.6040% Time: 1791.9372s\n",
      "[Test #9] Loss: 0.2601 Acc: 91.9815% Time: 1824.1004s\n",
      "Epoch 10 running\n",
      "[Train #10] Loss: 0.2092 Acc: 92.9901% Time: 1998.8998s\n",
      "[Test #10] Loss: 0.2606 Acc: 92.2899% Time: 2026.5885s\n",
      "Epoch 11 running\n",
      "[Train #11] Loss: 0.2024 Acc: 92.5148% Time: 2174.9847s\n",
      "[Test #11] Loss: 0.2414 Acc: 92.5983% Time: 2200.9371s\n",
      "Epoch 12 running\n",
      "[Train #12] Loss: 0.1969 Acc: 92.9505% Time: 2347.0529s\n",
      "[Test #12] Loss: 0.2583 Acc: 92.6754% Time: 2373.8756s\n",
      "Epoch 13 running\n",
      "[Train #13] Loss: 0.1978 Acc: 92.3960% Time: 2546.4017s\n",
      "[Test #13] Loss: 0.2943 Acc: 90.8250% Time: 2577.6528s\n",
      "Epoch 14 running\n",
      "[Train #14] Loss: 0.1971 Acc: 93.0297% Time: 2746.6757s\n",
      "[Test #14] Loss: 0.3055 Acc: 91.5189% Time: 2779.1302s\n",
      "Epoch 15 running\n",
      "[Train #15] Loss: 0.1700 Acc: 93.7426% Time: 2951.2702s\n",
      "[Test #15] Loss: 0.3170 Acc: 90.9792% Time: 2980.3838s\n",
      "Epoch 16 running\n",
      "[Train #16] Loss: 0.1763 Acc: 93.8614% Time: 3147.6787s\n",
      "[Test #16] Loss: 0.2676 Acc: 92.3670% Time: 3178.4015s\n",
      "Epoch 17 running\n",
      "[Train #17] Loss: 0.1611 Acc: 94.6139% Time: 3343.3758s\n",
      "[Test #17] Loss: 0.2723 Acc: 92.9838% Time: 3373.8919s\n",
      "Epoch 18 running\n",
      "[Train #18] Loss: 0.1437 Acc: 95.1287% Time: 3535.8541s\n",
      "[Test #18] Loss: 0.2742 Acc: 92.9067% Time: 3564.2158s\n",
      "Epoch 19 running\n",
      "[Train #19] Loss: 0.1570 Acc: 94.5347% Time: 3732.6796s\n",
      "[Test #19] Loss: 0.3526 Acc: 91.5960% Time: 3762.2556s\n",
      "Epoch 20 running\n",
      "[Train #20] Loss: 0.1404 Acc: 94.8911% Time: 3936.0673s\n",
      "[Test #20] Loss: 0.3082 Acc: 91.4418% Time: 3966.3306s\n",
      "Epoch 21 running\n",
      "[Train #21] Loss: 0.1549 Acc: 94.4950% Time: 4138.4766s\n",
      "[Test #21] Loss: 0.2921 Acc: 92.8296% Time: 4169.9313s\n",
      "Epoch 22 running\n",
      "[Train #22] Loss: 0.1250 Acc: 95.4455% Time: 4339.5306s\n",
      "[Test #22] Loss: 0.3401 Acc: 90.9021% Time: 4368.2532s\n",
      "Epoch 23 running\n",
      "[Train #23] Loss: 0.1756 Acc: 93.9010% Time: 4536.5819s\n",
      "[Test #23] Loss: 0.3172 Acc: 91.6731% Time: 4566.2623s\n",
      "Epoch 24 running\n",
      "[Train #24] Loss: 0.1333 Acc: 95.4059% Time: 4734.5382s\n",
      "[Test #24] Loss: 0.3372 Acc: 91.3647% Time: 4766.3788s\n",
      "Epoch 25 running\n",
      "[Train #25] Loss: 0.1275 Acc: 95.4059% Time: 4940.1607s\n",
      "[Test #25] Loss: 0.3283 Acc: 91.6731% Time: 4972.9123s\n",
      "Epoch 26 running\n",
      "[Train #26] Loss: 0.1123 Acc: 96.1188% Time: 5425.2023s\n",
      "[Test #26] Loss: 0.2898 Acc: 91.7502% Time: 5449.3445s\n",
      "Epoch 27 running\n",
      "[Train #27] Loss: 0.1281 Acc: 95.5247% Time: 5585.0393s\n",
      "[Test #27] Loss: 0.3201 Acc: 92.2899% Time: 5609.3765s\n",
      "Epoch 28 running\n",
      "[Train #28] Loss: 0.1171 Acc: 95.5247% Time: 5745.1193s\n",
      "[Test #28] Loss: 0.3014 Acc: 92.9067% Time: 5770.7908s\n",
      "Epoch 29 running\n",
      "[Train #29] Loss: 0.1319 Acc: 95.2871% Time: 5906.9728s\n",
      "[Test #29] Loss: 0.3260 Acc: 92.7525% Time: 5931.3666s\n",
      "Epoch 30 running\n",
      "[Train #30] Loss: 0.1340 Acc: 95.4455% Time: 6066.6914s\n",
      "[Test #30] Loss: 0.3291 Acc: 91.7502% Time: 6090.1302s\n",
      "Epoch 31 running\n",
      "[Train #31] Loss: 0.1472 Acc: 95.2079% Time: 6225.6003s\n",
      "[Test #31] Loss: 0.3289 Acc: 91.8273% Time: 6250.8512s\n",
      "Epoch 32 running\n",
      "[Train #32] Loss: 0.1196 Acc: 95.5644% Time: 6386.6650s\n",
      "[Test #32] Loss: 0.3155 Acc: 90.9021% Time: 6410.8642s\n",
      "Epoch 33 running\n",
      "[Train #33] Loss: 0.1121 Acc: 95.5644% Time: 6546.6769s\n",
      "[Test #33] Loss: 0.3370 Acc: 92.3670% Time: 6570.9109s\n",
      "Epoch 34 running\n",
      "[Train #34] Loss: 0.1125 Acc: 96.3168% Time: 6706.2871s\n",
      "[Test #34] Loss: 0.3283 Acc: 91.9815% Time: 6730.4877s\n",
      "Epoch 35 running\n",
      "[Train #35] Loss: 0.1063 Acc: 96.1584% Time: 6866.4815s\n",
      "[Test #35] Loss: 0.3203 Acc: 91.9815% Time: 6892.6408s\n",
      "Epoch 36 running\n",
      "[Train #36] Loss: 0.1207 Acc: 95.8020% Time: 7031.6049s\n",
      "[Test #36] Loss: 0.3034 Acc: 92.9838% Time: 7056.5335s\n",
      "Epoch 37 running\n",
      "[Train #37] Loss: 0.1291 Acc: 95.3663% Time: 7194.0097s\n",
      "[Test #37] Loss: 0.2997 Acc: 92.3670% Time: 7218.5916s\n",
      "Epoch 38 running\n",
      "[Train #38] Loss: 0.1178 Acc: 95.4455% Time: 7356.4869s\n",
      "[Test #38] Loss: 0.3179 Acc: 92.5212% Time: 7380.9716s\n",
      "Epoch 39 running\n",
      "[Train #39] Loss: 0.1056 Acc: 96.3960% Time: 7517.7767s\n",
      "[Test #39] Loss: 0.3056 Acc: 92.5983% Time: 7541.1973s\n",
      "Epoch 40 running\n",
      "[Train #40] Loss: 0.1152 Acc: 95.4455% Time: 7678.0215s\n",
      "[Test #40] Loss: 0.3088 Acc: 93.2151% Time: 7702.4200s\n",
      "Epoch 41 running\n",
      "[Train #41] Loss: 0.1107 Acc: 96.4356% Time: 7838.4450s\n",
      "[Test #41] Loss: 0.2962 Acc: 92.4441% Time: 7863.2042s\n",
      "Epoch 42 running\n",
      "[Train #42] Loss: 0.1019 Acc: 96.1188% Time: 7999.1808s\n",
      "[Test #42] Loss: 0.2928 Acc: 93.0609% Time: 8026.5110s\n",
      "Epoch 43 running\n",
      "[Train #43] Loss: 0.1113 Acc: 96.3564% Time: 8164.3836s\n",
      "[Test #43] Loss: 0.3292 Acc: 93.0609% Time: 8189.0865s\n",
      "Epoch 44 running\n",
      "[Train #44] Loss: 0.0971 Acc: 96.7525% Time: 8327.1574s\n",
      "[Test #44] Loss: 0.3410 Acc: 92.4441% Time: 8351.6527s\n",
      "Epoch 45 running\n",
      "[Train #45] Loss: 0.0884 Acc: 97.3069% Time: 8489.6338s\n",
      "[Test #45] Loss: 0.3643 Acc: 91.1334% Time: 8514.5221s\n",
      "Epoch 46 running\n",
      "[Train #46] Loss: 0.0949 Acc: 96.4356% Time: 8652.9344s\n",
      "[Test #46] Loss: 0.3333 Acc: 92.5983% Time: 8677.3234s\n",
      "Epoch 47 running\n",
      "[Train #47] Loss: 0.1041 Acc: 96.3564% Time: 8813.4815s\n",
      "[Test #47] Loss: 0.3243 Acc: 91.9815% Time: 8837.8145s\n",
      "Epoch 48 running\n",
      "[Train #48] Loss: 0.0835 Acc: 97.3069% Time: 8974.2096s\n",
      "[Test #48] Loss: 0.3257 Acc: 92.2899% Time: 8998.4923s\n",
      "Epoch 49 running\n",
      "[Train #49] Loss: 0.0941 Acc: 96.9109% Time: 9134.7566s\n",
      "[Test #49] Loss: 0.3636 Acc: 91.9815% Time: 9159.0455s\n",
      "Epoch 50 running\n",
      "[Train #50] Loss: 0.1085 Acc: 96.0396% Time: 9295.3749s\n",
      "[Test #50] Loss: 0.3638 Acc: 92.2128% Time: 9319.7038s\n",
      "Epoch 51 running\n",
      "[Train #51] Loss: 0.0819 Acc: 96.9901% Time: 9456.0707s\n",
      "[Test #51] Loss: 0.3380 Acc: 92.4441% Time: 9480.3555s\n",
      "Epoch 52 running\n",
      "[Train #52] Loss: 0.0956 Acc: 96.2376% Time: 9616.7578s\n",
      "[Test #52] Loss: 0.3544 Acc: 92.4441% Time: 9641.4503s\n",
      "Epoch 53 running\n",
      "[Train #53] Loss: 0.0941 Acc: 96.6337% Time: 9777.0165s\n",
      "[Test #53] Loss: 0.3553 Acc: 92.4441% Time: 9801.6248s\n",
      "Epoch 54 running\n",
      "[Train #54] Loss: 0.0837 Acc: 97.3861% Time: 9938.1969s\n",
      "[Test #54] Loss: 0.3567 Acc: 92.6754% Time: 9962.5991s\n",
      "Epoch 55 running\n",
      "[Train #55] Loss: 0.0819 Acc: 97.1881% Time: 10098.7088s\n",
      "[Test #55] Loss: 0.3932 Acc: 92.0586% Time: 10123.0312s\n",
      "Epoch 56 running\n",
      "[Train #56] Loss: 0.0846 Acc: 96.9109% Time: 10259.0803s\n",
      "[Test #56] Loss: 0.3526 Acc: 92.2899% Time: 10283.6198s\n",
      "Epoch 57 running\n",
      "[Train #57] Loss: 0.0820 Acc: 97.1089% Time: 10419.7874s\n",
      "[Test #57] Loss: 0.3430 Acc: 93.2151% Time: 10444.2148s\n",
      "Epoch 58 running\n",
      "[Train #58] Loss: 0.0955 Acc: 96.7525% Time: 10580.7968s\n",
      "[Test #58] Loss: 0.3334 Acc: 93.1380% Time: 10605.2738s\n",
      "Epoch 59 running\n",
      "[Train #59] Loss: 0.0763 Acc: 97.5446% Time: 10742.0973s\n",
      "[Test #59] Loss: 0.3467 Acc: 93.0609% Time: 10766.3160s\n",
      "Epoch 60 running\n",
      "[Train #60] Loss: 0.0792 Acc: 97.7030% Time: 10902.8596s\n",
      "[Test #60] Loss: 0.3813 Acc: 92.2128% Time: 10927.3385s\n",
      "Epoch 61 running\n",
      "[Train #61] Loss: 0.0903 Acc: 96.8317% Time: 11064.6737s\n",
      "[Test #61] Loss: 0.3267 Acc: 92.4441% Time: 11088.5197s\n",
      "Epoch 62 running\n",
      "[Train #62] Loss: 0.0781 Acc: 96.9505% Time: 11225.3716s\n",
      "[Test #62] Loss: 0.3648 Acc: 92.1357% Time: 11249.7370s\n",
      "Epoch 63 running\n",
      "[Train #63] Loss: 0.0770 Acc: 97.4257% Time: 11386.1488s\n",
      "[Test #63] Loss: 0.3826 Acc: 92.0586% Time: 11410.4960s\n",
      "Epoch 64 running\n",
      "[Train #64] Loss: 0.0756 Acc: 97.2277% Time: 11546.4948s\n"
     ]
    },
    {
     "name": "stdout",
     "output_type": "stream",
     "text": [
      "[Test #64] Loss: 0.3732 Acc: 92.4441% Time: 11571.0099s\n",
      "Epoch 65 running\n",
      "[Train #65] Loss: 0.0754 Acc: 97.4257% Time: 11707.1346s\n",
      "[Test #65] Loss: 0.3409 Acc: 92.5212% Time: 11731.7072s\n",
      "Epoch 66 running\n",
      "[Train #66] Loss: 0.0953 Acc: 96.7525% Time: 11868.6085s\n",
      "[Test #66] Loss: 0.3128 Acc: 93.0609% Time: 11893.1822s\n",
      "Epoch 67 running\n",
      "[Train #67] Loss: 0.0822 Acc: 96.8713% Time: 12029.6854s\n",
      "[Test #67] Loss: 0.3654 Acc: 92.8296% Time: 12054.1642s\n",
      "Epoch 68 running\n",
      "[Train #68] Loss: 0.0851 Acc: 96.9109% Time: 12190.0346s\n",
      "[Test #68] Loss: 0.3609 Acc: 92.1357% Time: 12214.5479s\n",
      "Epoch 69 running\n",
      "[Train #69] Loss: 0.0853 Acc: 97.3069% Time: 12350.7077s\n",
      "[Test #69] Loss: 0.3422 Acc: 92.7525% Time: 12374.9843s\n",
      "Epoch 70 running\n",
      "[Train #70] Loss: 0.0770 Acc: 96.7921% Time: 12510.9128s\n",
      "[Test #70] Loss: 0.3566 Acc: 92.0586% Time: 12535.5031s\n",
      "Epoch 71 running\n",
      "[Train #71] Loss: 0.0730 Acc: 97.5842% Time: 12671.6763s\n",
      "[Test #71] Loss: 0.3188 Acc: 93.3693% Time: 12696.3332s\n",
      "Epoch 72 running\n",
      "[Train #72] Loss: 0.0906 Acc: 97.3069% Time: 12832.7712s\n",
      "[Test #72] Loss: 0.3372 Acc: 93.1380% Time: 12857.1232s\n",
      "Epoch 73 running\n",
      "[Train #73] Loss: 0.0713 Acc: 97.4653% Time: 12992.8275s\n",
      "[Test #73] Loss: 0.3676 Acc: 92.9067% Time: 13017.2360s\n",
      "Epoch 74 running\n",
      "[Train #74] Loss: 0.0684 Acc: 97.8218% Time: 13153.2141s\n",
      "[Test #74] Loss: 0.3850 Acc: 92.6754% Time: 13177.5640s\n",
      "Epoch 75 running\n",
      "[Train #75] Loss: 0.0850 Acc: 96.9109% Time: 13313.9676s\n",
      "[Test #75] Loss: 0.3636 Acc: 93.3693% Time: 13338.4805s\n",
      "Epoch 76 running\n",
      "[Train #76] Loss: 0.0719 Acc: 97.5842% Time: 13475.3651s\n",
      "[Test #76] Loss: 0.3350 Acc: 93.6777% Time: 13499.7447s\n",
      "Epoch 77 running\n",
      "[Train #77] Loss: 0.0682 Acc: 97.9406% Time: 13635.7643s\n",
      "[Test #77] Loss: 0.3561 Acc: 92.9838% Time: 13660.0209s\n",
      "Epoch 78 running\n",
      "[Train #78] Loss: 0.0749 Acc: 97.4257% Time: 13796.5748s\n",
      "[Test #78] Loss: 0.4301 Acc: 92.5212% Time: 13820.7865s\n",
      "Epoch 79 running\n",
      "[Train #79] Loss: 0.0711 Acc: 97.5842% Time: 13957.4667s\n",
      "[Test #79] Loss: 0.3601 Acc: 92.8296% Time: 13981.7590s\n",
      "Epoch 80 running\n",
      "[Train #80] Loss: 0.0732 Acc: 97.3069% Time: 14117.6944s\n",
      "[Test #80] Loss: 0.3542 Acc: 92.1357% Time: 14141.9689s\n",
      "Epoch 81 running\n",
      "[Train #81] Loss: 0.0704 Acc: 97.3465% Time: 14278.3793s\n",
      "[Test #81] Loss: 0.3816 Acc: 92.7525% Time: 14302.8563s\n",
      "Epoch 82 running\n",
      "[Train #82] Loss: 0.0563 Acc: 97.7426% Time: 14439.2849s\n",
      "[Test #82] Loss: 0.3892 Acc: 93.0609% Time: 14463.6361s\n",
      "Epoch 83 running\n",
      "[Train #83] Loss: 0.0611 Acc: 98.0594% Time: 14599.8417s\n",
      "[Test #83] Loss: 0.4289 Acc: 91.7502% Time: 14624.1521s\n",
      "Epoch 84 running\n",
      "[Train #84] Loss: 0.0710 Acc: 97.6238% Time: 14760.2174s\n",
      "[Test #84] Loss: 0.4068 Acc: 92.1357% Time: 14784.7665s\n",
      "Epoch 85 running\n",
      "[Train #85] Loss: 0.0613 Acc: 97.9010% Time: 14921.0422s\n",
      "[Test #85] Loss: 0.3979 Acc: 92.1357% Time: 14945.4256s\n",
      "Epoch 86 running\n",
      "[Train #86] Loss: 0.0858 Acc: 97.0693% Time: 15081.9217s\n",
      "[Test #86] Loss: 0.4032 Acc: 92.2128% Time: 15106.3497s\n",
      "Epoch 87 running\n",
      "[Train #87] Loss: 0.0676 Acc: 97.5842% Time: 15242.3852s\n",
      "[Test #87] Loss: 0.3502 Acc: 92.4441% Time: 15266.8887s\n",
      "Epoch 88 running\n",
      "[Train #88] Loss: 0.0729 Acc: 97.3861% Time: 15403.3590s\n",
      "[Test #88] Loss: 0.3604 Acc: 92.9838% Time: 15427.6450s\n",
      "Epoch 89 running\n",
      "[Train #89] Loss: 0.0750 Acc: 97.2277% Time: 15563.7532s\n",
      "[Test #89] Loss: 0.3757 Acc: 92.2899% Time: 15588.1459s\n",
      "Epoch 90 running\n",
      "[Train #90] Loss: 0.0737 Acc: 97.5842% Time: 15724.2354s\n",
      "[Test #90] Loss: 0.3732 Acc: 92.5212% Time: 15748.6659s\n",
      "Epoch 91 running\n",
      "[Train #91] Loss: 0.0650 Acc: 97.6238% Time: 15885.4219s\n",
      "[Test #91] Loss: 0.3415 Acc: 93.6006% Time: 15909.7358s\n",
      "Epoch 92 running\n",
      "[Train #92] Loss: 0.0541 Acc: 98.0990% Time: 16046.1405s\n",
      "[Test #92] Loss: 0.3658 Acc: 93.1380% Time: 16070.4302s\n",
      "Epoch 93 running\n",
      "[Train #93] Loss: 0.0666 Acc: 97.3465% Time: 16206.2724s\n",
      "[Test #93] Loss: 0.3405 Acc: 92.4441% Time: 16229.6846s\n",
      "Epoch 94 running\n",
      "[Train #94] Loss: 0.0816 Acc: 97.1881% Time: 16365.7792s\n",
      "[Test #94] Loss: 0.3347 Acc: 92.6754% Time: 16390.1129s\n",
      "Epoch 95 running\n",
      "[Train #95] Loss: 0.0796 Acc: 96.9505% Time: 16526.5239s\n",
      "[Test #95] Loss: 0.3169 Acc: 93.3693% Time: 16550.9146s\n",
      "Epoch 96 running\n",
      "[Train #96] Loss: 0.0750 Acc: 97.1089% Time: 16687.5913s\n",
      "[Test #96] Loss: 0.3314 Acc: 92.5983% Time: 16712.0114s\n",
      "Epoch 97 running\n",
      "[Train #97] Loss: 0.0648 Acc: 97.9802% Time: 16847.9984s\n",
      "[Test #97] Loss: 0.3254 Acc: 93.1380% Time: 16872.3115s\n",
      "Epoch 98 running\n",
      "[Train #98] Loss: 0.0749 Acc: 97.6634% Time: 17008.7561s\n",
      "[Test #98] Loss: 0.3151 Acc: 92.5983% Time: 17033.3211s\n",
      "Epoch 99 running\n",
      "[Train #99] Loss: 0.0586 Acc: 98.3366% Time: 17169.5550s\n",
      "[Test #99] Loss: 0.3829 Acc: 92.4441% Time: 17193.9840s\n"
     ]
    }
   ],
   "source": [
    "import time\n",
    "\n",
    "train_losses = [] \n",
    "train_accs = []\n",
    "test_losses = []\n",
    "test_accs = []\n",
    "num_epochs = 100  # seta numero de epochs\n",
    "start_time = time.time() # calcular tempo de cada epoca\n",
    "for epoch in range(num_epochs): # loop para rodar as epocas\n",
    "    print(\"Epoch {} running\".format(epoch)) # printar epoca rodando\n",
    "    \"\"\" Training Phase \"\"\"\n",
    "    model.train()    # treinar modelo\n",
    "    running_loss = 0.   # zerando metricas\n",
    "    running_corrects = 0 # zerando metricas\n",
    "    # loop de imagem no treino, classificando imagem pelo rotulo\n",
    "    for i, (inputs, labels) in enumerate(train_dataloader):\n",
    "        inputs = inputs.to(device)\n",
    "        labels = labels.to(device) \n",
    "        # passando as entradas e obtendo resultado\n",
    "        optimizer.zero_grad()\n",
    "        outputs = model(inputs)\n",
    "        _, preds = torch.max(outputs, 1)\n",
    "        loss = criterion(outputs, labels)\n",
    "        # obtendo valor da loss e atualizando os pesos da rede\n",
    "        loss.backward()\n",
    "        optimizer.step()\n",
    "        running_loss += loss.item() * inputs.size(0)\n",
    "        running_corrects += torch.sum(preds == labels.data)\n",
    "    epoch_loss = running_loss / len(train_dataset)\n",
    "    train_losses.append(epoch_loss)\n",
    "    epoch_acc = running_corrects / len(train_dataset) * 100.\n",
    "    train_accs.append(epoch_acc)\n",
    "    print('[Train #{}] Loss: {:.4f} Acc: {:.4f}% Time: {:.4f}s'.format(epoch, epoch_loss, epoch_acc, time.time() -start_time))\n",
    "    \n",
    "    \"\"\" Testing Phase \"\"\"\n",
    "    model.eval()\n",
    "    with torch.no_grad():\n",
    "        running_loss = 0.\n",
    "        running_corrects = 0\n",
    "        for inputs, labels in test_dataloader:\n",
    "            inputs = inputs.to(device)\n",
    "            labels = labels.to(device)\n",
    "            outputs = model(inputs)\n",
    "            _, preds = torch.max(outputs, 1)\n",
    "            loss = criterion(outputs, labels)\n",
    "            running_loss += loss.item() * inputs.size(0)\n",
    "            running_corrects += torch.sum(preds == labels.data)\n",
    "        \n",
    "        epoch_loss = running_loss / len(test_dataset)\n",
    "        test_losses.append(epoch_loss) \n",
    "        epoch_acc = running_corrects / len(test_dataset) * 100.\n",
    "        test_accs.append(epoch_acc)\n",
    "        print('[Test #{}] Loss: {:.4f} Acc: {:.4f}% Time: {:.4f}s'.format(epoch, epoch_loss, epoch_acc, time.time()- start_time))"
   ]
  },
  {
   "cell_type": "code",
   "execution_count": 22,
   "metadata": {},
   "outputs": [],
   "source": [
    "torch.save(model, 'model.pth')"
   ]
  },
  {
   "cell_type": "code",
   "execution_count": 15,
   "metadata": {},
   "outputs": [
    {
     "data": {
      "text/plain": [
       "<Figure size 640x480 with 1 Axes>"
      ]
     },
     "metadata": {},
     "output_type": "display_data"
    }
   ],
   "source": [
    "import matplotlib.pyplot as plt\n",
    "\n",
    "# Mostra grafico da loss\n",
    "plt.plot(train_losses,label='train loss')\n",
    "plt.plot(test_losses,label='test loss')\n",
    "plt.legend()\n",
    "plt.show()"
   ]
  },
  {
   "cell_type": "code",
   "execution_count": 16,
   "metadata": {},
   "outputs": [
    {
     "data": {
      "image/png": "[encoded data removed]",
      "text/plain": [
       "<Figure size 432x288 with 1 Axes>"
      ]
     },
     "metadata": {
      "needs_background": "light"
     },
     "output_type": "display_data"
    }
   ],
   "source": [
    "train_accs = [x.cpu() for x in train_accs]\n",
    "test_accs = [x.cpu() for x in test_accs]\n",
    "\n",
    "plt.plot(train_accs,label='train accuracies')\n",
    "plt.plot(test_accs,label='test accuracies')\n",
    "plt.legend()\n",
    "plt.show()"
   ]
  },
  {
   "cell_type": "code",
   "execution_count": 17,
   "metadata": {},
   "outputs": [],
   "source": [
    "def image_convert(img):\n",
    "    img = img.clone().cpu().numpy()\n",
    "    img = img.transpose(1,2,0)\n",
    "    std = [0.5,0.5,0.5]\n",
    "    mean = [0.5,0.5,0.5]\n",
    "    img = img*std + mean\n",
    "    return img\n",
    "\n",
    "\n",
    "def plot_10():\n",
    "        iter_ = iter(trainloader)\n",
    "        images,labels = next(iter_)\n",
    "        an_ = {'0':'cat','1':'dog'}\n",
    "        \n",
    "        plt.figure(figsize=(20,10))\n",
    "        for idx in range(10):\n",
    "            plt.subplot(2,5,idx+1)\n",
    "            img = image_convert(images[idx])\n",
    "            label = labels[idx]\n",
    "            plt.imshow(img)\n",
    "            plt.title(an_[str(label.numpy())])\n",
    "        plt.show()"
   ]
  },
  {
   "cell_type": "code",
   "execution_count": 18,
   "metadata": {},
   "outputs": [],
   "source": [
    "def plot_val_images(images, labels):    \n",
    "    label_dict = ['normal','pneumonia','tuberculose']\n",
    "    images = images.to(device)\n",
    "    pred_labels = labels.to(device)\n",
    "\n",
    "    img_out = model.forward(images)\n",
    "    print(f\"img_out: {img_out}\")\n",
    "    value, index_val = torch.max(img_out, 1)\n",
    "    print(f\"value: {value}\")\n",
    "    print(f\"index_val: {index_val}\")\n",
    "\n",
    "    # label = label_dict[str(label)]\n",
    "    fig = plt.figure(figsize=(20,10))\n",
    "    for idx in np.arange(10):\n",
    "        ax = fig.add_subplot(2,5,idx+1)\n",
    "        plt.imshow(image_convert(images[idx]))\n",
    "        label = labels[idx]  \n",
    "        pred_label = pred_labels[idx]\n",
    "        ax.set_title('Resposta Esperada: {},\\n Predicao: {}'.format(label_dict[label],label_dict[pred_label]))\n",
    "  \n",
    "    return index_val"
   ]
  },
  {
   "cell_type": "code",
   "execution_count": 25,
   "metadata": {},
   "outputs": [
    {
     "name": "stderr",
     "output_type": "stream",
     "text": [
      "Clipping input data to the valid range for imshow with RGB data ([0..1] for floats or [0..255] for integers).\n"
     ]
    },
    {
     "name": "stdout",
     "output_type": "stream",
     "text": [
      "img_out: tensor([[ -2.2028,  -0.6003,  -1.6167,  -1.0753,   6.4157],\n",
      "        [ 10.7367,  -3.3903,  -3.5420,  -0.4273,  -1.0302],\n",
      "        [ -1.7057,   7.6421,  -3.7437,  -2.4291,  -0.3333],\n",
      "        [  8.6682,  -2.4797,  -2.8190,   0.3950,  -2.0930],\n",
      "        [  0.8084,  -1.1368,  -3.4844,   9.7534,  -3.9237],\n",
      "        [  1.0625,  -1.2685,  -3.5604,  -1.9818,   7.6539],\n",
      "        [  9.4355,  -2.0809,  -4.2221,  -1.4081,  -2.1895],\n",
      "        [ 10.0273,  -2.4212,  -3.2772,   0.6415,  -2.0962],\n",
      "        [ -0.3663,   6.2613,  -1.4196,  -4.0733,  -1.3807],\n",
      "        [ -3.2443,  -1.6350,   9.6572,  -0.3456,  -1.9119],\n",
      "        [-10.6681,   0.4483,   4.4382,  -4.0769,   9.8417],\n",
      "        [  8.5540,  -3.5098,  -1.7221,   0.6693,  -2.7448]],\n",
      "       grad_fn=<AddmmBackward0>)\n",
      "value: tensor([ 6.4157, 10.7367,  7.6421,  8.6682,  9.7534,  7.6539,  9.4355, 10.0273,\n",
      "         6.2613,  9.6572,  9.8417,  8.5540], grad_fn=<MaxBackward0>)\n",
      "index_val: tensor([4, 0, 1, 0, 3, 4, 0, 0, 1, 2, 4, 0])\n"
     ]
    },
    {
     "ename": "IndexError",
     "evalue": "list index out of range",
     "output_type": "error",
     "traceback": [
      "\u001b[0;31m---------------------------------------------------------------------------\u001b[0m",
      "\u001b[0;31mIndexError\u001b[0m                                Traceback (most recent call last)",
      "\u001b[0;32m<ipython-input-25-4ecc5e8dc152>\u001b[0m in \u001b[0;36m<module>\u001b[0;34m\u001b[0m\n\u001b[1;32m      4\u001b[0m \u001b[0;32mfor\u001b[0m \u001b[0mi\u001b[0m\u001b[0;34m,\u001b[0m \u001b[0;34m(\u001b[0m\u001b[0mimages\u001b[0m\u001b[0;34m,\u001b[0m \u001b[0mlabels\u001b[0m\u001b[0;34m)\u001b[0m \u001b[0;32min\u001b[0m \u001b[0menumerate\u001b[0m\u001b[0;34m(\u001b[0m\u001b[0mtest_dataloader\u001b[0m\u001b[0;34m)\u001b[0m\u001b[0;34m:\u001b[0m\u001b[0;34m\u001b[0m\u001b[0;34m\u001b[0m\u001b[0m\n\u001b[1;32m      5\u001b[0m     \u001b[0my_test\u001b[0m\u001b[0;34m.\u001b[0m\u001b[0mextend\u001b[0m\u001b[0;34m(\u001b[0m\u001b[0mlabels\u001b[0m\u001b[0;34m)\u001b[0m\u001b[0;34m\u001b[0m\u001b[0;34m\u001b[0m\u001b[0m\n\u001b[0;32m----> 6\u001b[0;31m     \u001b[0my_predict\u001b[0m\u001b[0;34m.\u001b[0m\u001b[0mextend\u001b[0m\u001b[0;34m(\u001b[0m\u001b[0mplot_val_images\u001b[0m\u001b[0;34m(\u001b[0m\u001b[0mimages\u001b[0m\u001b[0;34m,\u001b[0m \u001b[0mlabels\u001b[0m\u001b[0;34m)\u001b[0m\u001b[0;34m)\u001b[0m\u001b[0;34m\u001b[0m\u001b[0;34m\u001b[0m\u001b[0m\n\u001b[0m",
      "\u001b[0;32m<ipython-input-18-19ee6a1f3664>\u001b[0m in \u001b[0;36mplot_val_images\u001b[0;34m(images, labels)\u001b[0m\n\u001b[1;32m     17\u001b[0m         \u001b[0mlabel\u001b[0m \u001b[0;34m=\u001b[0m \u001b[0mlabels\u001b[0m\u001b[0;34m[\u001b[0m\u001b[0midx\u001b[0m\u001b[0;34m]\u001b[0m\u001b[0;34m\u001b[0m\u001b[0;34m\u001b[0m\u001b[0m\n\u001b[1;32m     18\u001b[0m         \u001b[0mpred_label\u001b[0m \u001b[0;34m=\u001b[0m \u001b[0mpred_labels\u001b[0m\u001b[0;34m[\u001b[0m\u001b[0midx\u001b[0m\u001b[0;34m]\u001b[0m\u001b[0;34m\u001b[0m\u001b[0;34m\u001b[0m\u001b[0m\n\u001b[0;32m---> 19\u001b[0;31m         \u001b[0max\u001b[0m\u001b[0;34m.\u001b[0m\u001b[0mset_title\u001b[0m\u001b[0;34m(\u001b[0m\u001b[0;34m'Resposta Esperada: {},\\n Predicao: {}'\u001b[0m\u001b[0;34m.\u001b[0m\u001b[0mformat\u001b[0m\u001b[0;34m(\u001b[0m\u001b[0mlabel_dict\u001b[0m\u001b[0;34m[\u001b[0m\u001b[0mlabel\u001b[0m\u001b[0;34m]\u001b[0m\u001b[0;34m,\u001b[0m\u001b[0mlabel_dict\u001b[0m\u001b[0;34m[\u001b[0m\u001b[0mpred_label\u001b[0m\u001b[0;34m]\u001b[0m\u001b[0;34m)\u001b[0m\u001b[0;34m)\u001b[0m\u001b[0;34m\u001b[0m\u001b[0;34m\u001b[0m\u001b[0m\n\u001b[0m\u001b[1;32m     20\u001b[0m \u001b[0;34m\u001b[0m\u001b[0m\n\u001b[1;32m     21\u001b[0m     \u001b[0;32mreturn\u001b[0m \u001b[0mindex_val\u001b[0m\u001b[0;34m\u001b[0m\u001b[0;34m\u001b[0m\u001b[0m\n",
      "\u001b[0;31mIndexError\u001b[0m: list index out of range"
     ]
    },
    {
     "data": {
      "image/png": "[encoded data removed]",
      "text/plain": [
       "<Figure size 1440x720 with 1 Axes>"
      ]
     },
     "metadata": {},
     "output_type": "display_data"
    }
   ],
   "source": [
    "y_test = []\n",
    "y_predict = []\n",
    "\n",
    "for i, (images, labels) in enumerate(test_dataloader):\n",
    "    y_test.extend(labels)\n",
    "    y_predict.extend(plot_val_images(images, labels))"
   ]
  },
  {
   "cell_type": "code",
   "execution_count": 21,
   "metadata": {},
   "outputs": [
    {
     "ename": "ValueError",
     "evalue": "Found input variables with inconsistent numbers of samples: [12, 0]",
     "output_type": "error",
     "traceback": [
      "\u001b[0;31m---------------------------------------------------------------------------\u001b[0m",
      "\u001b[0;31mValueError\u001b[0m                                Traceback (most recent call last)",
      "\u001b[0;32m<ipython-input-21-f5fb77c396bb>\u001b[0m in \u001b[0;36m<module>\u001b[0;34m\u001b[0m\n\u001b[1;32m      1\u001b[0m \u001b[0;32mimport\u001b[0m \u001b[0msklearn\u001b[0m\u001b[0;34m.\u001b[0m\u001b[0mmetrics\u001b[0m \u001b[0;32mas\u001b[0m \u001b[0mmetrics\u001b[0m\u001b[0;34m\u001b[0m\u001b[0;34m\u001b[0m\u001b[0m\n\u001b[1;32m      2\u001b[0m \u001b[0;34m\u001b[0m\u001b[0m\n\u001b[0;32m----> 3\u001b[0;31m \u001b[0mprint\u001b[0m\u001b[0;34m(\u001b[0m\u001b[0;34mf'Acuracia: {metrics.accuracy_score(y_test, y_predict)}'\u001b[0m\u001b[0;34m)\u001b[0m\u001b[0;34m\u001b[0m\u001b[0;34m\u001b[0m\u001b[0m\n\u001b[0m\u001b[1;32m      4\u001b[0m \u001b[0mprint\u001b[0m\u001b[0;34m(\u001b[0m\u001b[0;34mf'F-Score: {metrics.f1_score(y_test, y_predict, average = \"macro\")}'\u001b[0m\u001b[0;34m)\u001b[0m\u001b[0;34m\u001b[0m\u001b[0;34m\u001b[0m\u001b[0m\n\u001b[1;32m      5\u001b[0m \u001b[0mprint\u001b[0m\u001b[0;34m(\u001b[0m\u001b[0;34mf'Recall Macro: {metrics.recall_score(y_test, y_predict, average = \"macro\")}'\u001b[0m\u001b[0;34m)\u001b[0m\u001b[0;34m\u001b[0m\u001b[0;34m\u001b[0m\u001b[0m\n",
      "\u001b[0;32m~/anaconda3/lib/python3.7/site-packages/sklearn/metrics/_classification.py\u001b[0m in \u001b[0;36maccuracy_score\u001b[0;34m(y_true, y_pred, normalize, sample_weight)\u001b[0m\n\u001b[1;32m    209\u001b[0m \u001b[0;34m\u001b[0m\u001b[0m\n\u001b[1;32m    210\u001b[0m     \u001b[0;31m# Compute accuracy for each possible representation\u001b[0m\u001b[0;34m\u001b[0m\u001b[0;34m\u001b[0m\u001b[0;34m\u001b[0m\u001b[0m\n\u001b[0;32m--> 211\u001b[0;31m     \u001b[0my_type\u001b[0m\u001b[0;34m,\u001b[0m \u001b[0my_true\u001b[0m\u001b[0;34m,\u001b[0m \u001b[0my_pred\u001b[0m \u001b[0;34m=\u001b[0m \u001b[0m_check_targets\u001b[0m\u001b[0;34m(\u001b[0m\u001b[0my_true\u001b[0m\u001b[0;34m,\u001b[0m \u001b[0my_pred\u001b[0m\u001b[0;34m)\u001b[0m\u001b[0;34m\u001b[0m\u001b[0;34m\u001b[0m\u001b[0m\n\u001b[0m\u001b[1;32m    212\u001b[0m     \u001b[0mcheck_consistent_length\u001b[0m\u001b[0;34m(\u001b[0m\u001b[0my_true\u001b[0m\u001b[0;34m,\u001b[0m \u001b[0my_pred\u001b[0m\u001b[0;34m,\u001b[0m \u001b[0msample_weight\u001b[0m\u001b[0;34m)\u001b[0m\u001b[0;34m\u001b[0m\u001b[0;34m\u001b[0m\u001b[0m\n\u001b[1;32m    213\u001b[0m     \u001b[0;32mif\u001b[0m \u001b[0my_type\u001b[0m\u001b[0;34m.\u001b[0m\u001b[0mstartswith\u001b[0m\u001b[0;34m(\u001b[0m\u001b[0;34m\"multilabel\"\u001b[0m\u001b[0;34m)\u001b[0m\u001b[0;34m:\u001b[0m\u001b[0;34m\u001b[0m\u001b[0;34m\u001b[0m\u001b[0m\n",
      "\u001b[0;32m~/anaconda3/lib/python3.7/site-packages/sklearn/metrics/_classification.py\u001b[0m in \u001b[0;36m_check_targets\u001b[0;34m(y_true, y_pred)\u001b[0m\n\u001b[1;32m     82\u001b[0m     \u001b[0my_pred\u001b[0m \u001b[0;34m:\u001b[0m \u001b[0marray\u001b[0m \u001b[0;32mor\u001b[0m \u001b[0mindicator\u001b[0m \u001b[0mmatrix\u001b[0m\u001b[0;34m\u001b[0m\u001b[0;34m\u001b[0m\u001b[0m\n\u001b[1;32m     83\u001b[0m     \"\"\"\n\u001b[0;32m---> 84\u001b[0;31m     \u001b[0mcheck_consistent_length\u001b[0m\u001b[0;34m(\u001b[0m\u001b[0my_true\u001b[0m\u001b[0;34m,\u001b[0m \u001b[0my_pred\u001b[0m\u001b[0;34m)\u001b[0m\u001b[0;34m\u001b[0m\u001b[0;34m\u001b[0m\u001b[0m\n\u001b[0m\u001b[1;32m     85\u001b[0m     \u001b[0mtype_true\u001b[0m \u001b[0;34m=\u001b[0m \u001b[0mtype_of_target\u001b[0m\u001b[0;34m(\u001b[0m\u001b[0my_true\u001b[0m\u001b[0;34m)\u001b[0m\u001b[0;34m\u001b[0m\u001b[0;34m\u001b[0m\u001b[0m\n\u001b[1;32m     86\u001b[0m     \u001b[0mtype_pred\u001b[0m \u001b[0;34m=\u001b[0m \u001b[0mtype_of_target\u001b[0m\u001b[0;34m(\u001b[0m\u001b[0my_pred\u001b[0m\u001b[0;34m)\u001b[0m\u001b[0;34m\u001b[0m\u001b[0;34m\u001b[0m\u001b[0m\n",
      "\u001b[0;32m~/anaconda3/lib/python3.7/site-packages/sklearn/utils/validation.py\u001b[0m in \u001b[0;36mcheck_consistent_length\u001b[0;34m(*arrays)\u001b[0m\n\u001b[1;32m    332\u001b[0m         raise ValueError(\n\u001b[1;32m    333\u001b[0m             \u001b[0;34m\"Found input variables with inconsistent numbers of samples: %r\"\u001b[0m\u001b[0;34m\u001b[0m\u001b[0;34m\u001b[0m\u001b[0m\n\u001b[0;32m--> 334\u001b[0;31m             \u001b[0;34m%\u001b[0m \u001b[0;34m[\u001b[0m\u001b[0mint\u001b[0m\u001b[0;34m(\u001b[0m\u001b[0ml\u001b[0m\u001b[0;34m)\u001b[0m \u001b[0;32mfor\u001b[0m \u001b[0ml\u001b[0m \u001b[0;32min\u001b[0m \u001b[0mlengths\u001b[0m\u001b[0;34m]\u001b[0m\u001b[0;34m\u001b[0m\u001b[0;34m\u001b[0m\u001b[0m\n\u001b[0m\u001b[1;32m    335\u001b[0m         )\n\u001b[1;32m    336\u001b[0m \u001b[0;34m\u001b[0m\u001b[0m\n",
      "\u001b[0;31mValueError\u001b[0m: Found input variables with inconsistent numbers of samples: [12, 0]"
     ]
    }
   ],
   "source": [
    "import sklearn.metrics as metrics\n",
    "\n",
    "print(f'Acuracia: {metrics.accuracy_score(y_test, y_predict)}')\n",
    "print(f'F-Score: {metrics.f1_score(y_test, y_predict, average = \"macro\")}')\n",
    "print(f'Recall Macro: {metrics.recall_score(y_test, y_predict, average = \"macro\")}')\n",
    "print(f'Precisão Macro: {metrics.precision_score(y_test, y_predict, average = \"macro\")}')\n",
    "print(f'Recall Ponderado:{metrics.recall_score(y_test, y_predict, average = \"weighted\")}')\n",
    "print(f'Precisão Ponderada:{metrics.precision_score(y_test, y_predict, average = \"weighted\")}')"
   ]
  },
  {
   "cell_type": "code",
   "execution_count": 22,
   "metadata": {},
   "outputs": [
    {
     "ename": "ValueError",
     "evalue": "Found input variables with inconsistent numbers of samples: [12, 0]",
     "output_type": "error",
     "traceback": [
      "\u001b[0;31m---------------------------------------------------------------------------\u001b[0m",
      "\u001b[0;31mValueError\u001b[0m                                Traceback (most recent call last)",
      "\u001b[0;32m<ipython-input-22-aaea139e6ae5>\u001b[0m in \u001b[0;36m<module>\u001b[0;34m\u001b[0m\n\u001b[1;32m      4\u001b[0m \u001b[0msns\u001b[0m\u001b[0;34m.\u001b[0m\u001b[0mset\u001b[0m\u001b[0;34m(\u001b[0m\u001b[0mrc\u001b[0m\u001b[0;34m=\u001b[0m\u001b[0;34m{\u001b[0m\u001b[0;34m'figure.figsize'\u001b[0m\u001b[0;34m:\u001b[0m\u001b[0;34m(\u001b[0m\u001b[0;36m8\u001b[0m\u001b[0;34m,\u001b[0m\u001b[0;36m5\u001b[0m\u001b[0;34m)\u001b[0m\u001b[0;34m}\u001b[0m\u001b[0;34m)\u001b[0m\u001b[0;34m\u001b[0m\u001b[0;34m\u001b[0m\u001b[0m\n\u001b[1;32m      5\u001b[0m \u001b[0;34m\u001b[0m\u001b[0m\n\u001b[0;32m----> 6\u001b[0;31m \u001b[0max\u001b[0m \u001b[0;34m=\u001b[0m \u001b[0msk\u001b[0m\u001b[0;34m.\u001b[0m\u001b[0mmetrics\u001b[0m\u001b[0;34m.\u001b[0m\u001b[0mplot_confusion_matrix\u001b[0m\u001b[0;34m(\u001b[0m\u001b[0my_test\u001b[0m\u001b[0;34m,\u001b[0m \u001b[0my_predict\u001b[0m\u001b[0;34m,\u001b[0m \u001b[0mnormalize\u001b[0m\u001b[0;34m=\u001b[0m\u001b[0;32mTrue\u001b[0m\u001b[0;34m)\u001b[0m\u001b[0;34m\u001b[0m\u001b[0;34m\u001b[0m\u001b[0m\n\u001b[0m\u001b[1;32m      7\u001b[0m \u001b[0mbottom\u001b[0m\u001b[0;34m,\u001b[0m \u001b[0mtop\u001b[0m \u001b[0;34m=\u001b[0m \u001b[0max\u001b[0m\u001b[0;34m.\u001b[0m\u001b[0mget_ylim\u001b[0m\u001b[0;34m(\u001b[0m\u001b[0;34m)\u001b[0m\u001b[0;34m\u001b[0m\u001b[0;34m\u001b[0m\u001b[0m\n",
      "\u001b[0;32m~/anaconda3/lib/python3.7/site-packages/scikitplot/metrics.py\u001b[0m in \u001b[0;36mplot_confusion_matrix\u001b[0;34m(y_true, y_pred, labels, true_labels, pred_labels, title, normalize, hide_zeros, hide_counts, x_tick_rotation, ax, figsize, cmap, title_fontsize, text_fontsize)\u001b[0m\n\u001b[1;32m    115\u001b[0m         \u001b[0mfig\u001b[0m\u001b[0;34m,\u001b[0m \u001b[0max\u001b[0m \u001b[0;34m=\u001b[0m \u001b[0mplt\u001b[0m\u001b[0;34m.\u001b[0m\u001b[0msubplots\u001b[0m\u001b[0;34m(\u001b[0m\u001b[0;36m1\u001b[0m\u001b[0;34m,\u001b[0m \u001b[0;36m1\u001b[0m\u001b[0;34m,\u001b[0m \u001b[0mfigsize\u001b[0m\u001b[0;34m=\u001b[0m\u001b[0mfigsize\u001b[0m\u001b[0;34m)\u001b[0m\u001b[0;34m\u001b[0m\u001b[0;34m\u001b[0m\u001b[0m\n\u001b[1;32m    116\u001b[0m \u001b[0;34m\u001b[0m\u001b[0m\n\u001b[0;32m--> 117\u001b[0;31m     \u001b[0mcm\u001b[0m \u001b[0;34m=\u001b[0m \u001b[0mconfusion_matrix\u001b[0m\u001b[0;34m(\u001b[0m\u001b[0my_true\u001b[0m\u001b[0;34m,\u001b[0m \u001b[0my_pred\u001b[0m\u001b[0;34m,\u001b[0m \u001b[0mlabels\u001b[0m\u001b[0;34m=\u001b[0m\u001b[0mlabels\u001b[0m\u001b[0;34m)\u001b[0m\u001b[0;34m\u001b[0m\u001b[0;34m\u001b[0m\u001b[0m\n\u001b[0m\u001b[1;32m    118\u001b[0m     \u001b[0;32mif\u001b[0m \u001b[0mlabels\u001b[0m \u001b[0;32mis\u001b[0m \u001b[0;32mNone\u001b[0m\u001b[0;34m:\u001b[0m\u001b[0;34m\u001b[0m\u001b[0;34m\u001b[0m\u001b[0m\n\u001b[1;32m    119\u001b[0m         \u001b[0mclasses\u001b[0m \u001b[0;34m=\u001b[0m \u001b[0munique_labels\u001b[0m\u001b[0;34m(\u001b[0m\u001b[0my_true\u001b[0m\u001b[0;34m,\u001b[0m \u001b[0my_pred\u001b[0m\u001b[0;34m)\u001b[0m\u001b[0;34m\u001b[0m\u001b[0;34m\u001b[0m\u001b[0m\n",
      "\u001b[0;32m~/anaconda3/lib/python3.7/site-packages/sklearn/metrics/_classification.py\u001b[0m in \u001b[0;36mconfusion_matrix\u001b[0;34m(y_true, y_pred, labels, sample_weight, normalize)\u001b[0m\n\u001b[1;32m    305\u001b[0m     \u001b[0;34m(\u001b[0m\u001b[0;36m0\u001b[0m\u001b[0;34m,\u001b[0m \u001b[0;36m2\u001b[0m\u001b[0;34m,\u001b[0m \u001b[0;36m1\u001b[0m\u001b[0;34m,\u001b[0m \u001b[0;36m1\u001b[0m\u001b[0;34m)\u001b[0m\u001b[0;34m\u001b[0m\u001b[0;34m\u001b[0m\u001b[0m\n\u001b[1;32m    306\u001b[0m     \"\"\"\n\u001b[0;32m--> 307\u001b[0;31m     \u001b[0my_type\u001b[0m\u001b[0;34m,\u001b[0m \u001b[0my_true\u001b[0m\u001b[0;34m,\u001b[0m \u001b[0my_pred\u001b[0m \u001b[0;34m=\u001b[0m \u001b[0m_check_targets\u001b[0m\u001b[0;34m(\u001b[0m\u001b[0my_true\u001b[0m\u001b[0;34m,\u001b[0m \u001b[0my_pred\u001b[0m\u001b[0;34m)\u001b[0m\u001b[0;34m\u001b[0m\u001b[0;34m\u001b[0m\u001b[0m\n\u001b[0m\u001b[1;32m    308\u001b[0m     \u001b[0;32mif\u001b[0m \u001b[0my_type\u001b[0m \u001b[0;32mnot\u001b[0m \u001b[0;32min\u001b[0m \u001b[0;34m(\u001b[0m\u001b[0;34m\"binary\"\u001b[0m\u001b[0;34m,\u001b[0m \u001b[0;34m\"multiclass\"\u001b[0m\u001b[0;34m)\u001b[0m\u001b[0;34m:\u001b[0m\u001b[0;34m\u001b[0m\u001b[0;34m\u001b[0m\u001b[0m\n\u001b[1;32m    309\u001b[0m         \u001b[0;32mraise\u001b[0m \u001b[0mValueError\u001b[0m\u001b[0;34m(\u001b[0m\u001b[0;34m\"%s is not supported\"\u001b[0m \u001b[0;34m%\u001b[0m \u001b[0my_type\u001b[0m\u001b[0;34m)\u001b[0m\u001b[0;34m\u001b[0m\u001b[0;34m\u001b[0m\u001b[0m\n",
      "\u001b[0;32m~/anaconda3/lib/python3.7/site-packages/sklearn/metrics/_classification.py\u001b[0m in \u001b[0;36m_check_targets\u001b[0;34m(y_true, y_pred)\u001b[0m\n\u001b[1;32m     82\u001b[0m     \u001b[0my_pred\u001b[0m \u001b[0;34m:\u001b[0m \u001b[0marray\u001b[0m \u001b[0;32mor\u001b[0m \u001b[0mindicator\u001b[0m \u001b[0mmatrix\u001b[0m\u001b[0;34m\u001b[0m\u001b[0;34m\u001b[0m\u001b[0m\n\u001b[1;32m     83\u001b[0m     \"\"\"\n\u001b[0;32m---> 84\u001b[0;31m     \u001b[0mcheck_consistent_length\u001b[0m\u001b[0;34m(\u001b[0m\u001b[0my_true\u001b[0m\u001b[0;34m,\u001b[0m \u001b[0my_pred\u001b[0m\u001b[0;34m)\u001b[0m\u001b[0;34m\u001b[0m\u001b[0;34m\u001b[0m\u001b[0m\n\u001b[0m\u001b[1;32m     85\u001b[0m     \u001b[0mtype_true\u001b[0m \u001b[0;34m=\u001b[0m \u001b[0mtype_of_target\u001b[0m\u001b[0;34m(\u001b[0m\u001b[0my_true\u001b[0m\u001b[0;34m)\u001b[0m\u001b[0;34m\u001b[0m\u001b[0;34m\u001b[0m\u001b[0m\n\u001b[1;32m     86\u001b[0m     \u001b[0mtype_pred\u001b[0m \u001b[0;34m=\u001b[0m \u001b[0mtype_of_target\u001b[0m\u001b[0;34m(\u001b[0m\u001b[0my_pred\u001b[0m\u001b[0;34m)\u001b[0m\u001b[0;34m\u001b[0m\u001b[0;34m\u001b[0m\u001b[0m\n",
      "\u001b[0;32m~/anaconda3/lib/python3.7/site-packages/sklearn/utils/validation.py\u001b[0m in \u001b[0;36mcheck_consistent_length\u001b[0;34m(*arrays)\u001b[0m\n\u001b[1;32m    332\u001b[0m         raise ValueError(\n\u001b[1;32m    333\u001b[0m             \u001b[0;34m\"Found input variables with inconsistent numbers of samples: %r\"\u001b[0m\u001b[0;34m\u001b[0m\u001b[0;34m\u001b[0m\u001b[0m\n\u001b[0;32m--> 334\u001b[0;31m             \u001b[0;34m%\u001b[0m \u001b[0;34m[\u001b[0m\u001b[0mint\u001b[0m\u001b[0;34m(\u001b[0m\u001b[0ml\u001b[0m\u001b[0;34m)\u001b[0m \u001b[0;32mfor\u001b[0m \u001b[0ml\u001b[0m \u001b[0;32min\u001b[0m \u001b[0mlengths\u001b[0m\u001b[0;34m]\u001b[0m\u001b[0;34m\u001b[0m\u001b[0;34m\u001b[0m\u001b[0m\n\u001b[0m\u001b[1;32m    335\u001b[0m         )\n\u001b[1;32m    336\u001b[0m \u001b[0;34m\u001b[0m\u001b[0m\n",
      "\u001b[0;31mValueError\u001b[0m: Found input variables with inconsistent numbers of samples: [12, 0]"
     ]
    },
    {
     "data": {
      "image/png": "[encoded data removed]",
      "text/plain": [
       "<Figure size 576x360 with 1 Axes>"
      ]
     },
     "metadata": {},
     "output_type": "display_data"
    }
   ],
   "source": [
    "import scikitplot as sk\n",
    "import seaborn as sns\n",
    "\n",
    "sns.set(rc={'figure.figsize':(8,5)})\n",
    "\n",
    "ax = sk.metrics.plot_confusion_matrix(y_test, y_predict, normalize=True)\n",
    "bottom, top = ax.get_ylim()"
   ]
  },
  {
   "cell_type": "code",
   "execution_count": null,
   "metadata": {},
   "outputs": [],
   "source": []
  }
 ],
 "metadata": {
  "kernelspec": {
   "display_name": "Python 3 (ipykernel)",
   "language": "python",
   "name": "python3"
  },
  "language_info": {
   "codemirror_mode": {
    "name": "ipython",
    "version": 3
   },
   "file_extension": ".py",
   "mimetype": "text/x-python",
   "name": "python",
   "nbconvert_exporter": "python",
   "pygments_lexer": "ipython3",
   "version": "3.10.0"
  }
 },
 "nbformat": 4,
 "nbformat_minor": 2
}
