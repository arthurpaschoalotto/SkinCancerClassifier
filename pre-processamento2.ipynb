{
 "cells": [
  {
   "cell_type": "code",
   "execution_count": 2,
   "metadata": {},
   "outputs": [
    {
     "name": "stdout",
     "output_type": "stream",
     "text": [
      "   Pasta  Quantidade de Arquivos\n",
      "0    bkl                    1099\n",
      "1    bcc                     514\n",
      "2     nv                    7077\n",
      "3  akiec                     329\n",
      "4    mel                    1567\n",
      "5     df                     122\n",
      "6   vasc                     142\n"
     ]
    }
   ],
   "source": [
    "import os\n",
    "import pandas as pd\n",
    "\n",
    "diretorio = '../SkinCancerClassifier/dados/'  # Substitua pelo caminho do seu diretório\n",
    "\n",
    "pastas_e_arquivos = []\n",
    "\n",
    "for pasta in os.listdir(diretorio):\n",
    "    if os.path.isdir(os.path.join(diretorio, pasta)):\n",
    "        num_arquivos = len(os.listdir(os.path.join(diretorio, pasta)))\n",
    "        pastas_e_arquivos.append({'Pasta': pasta, 'Quantidade de Arquivos': num_arquivos})\n",
    "\n",
    "df = pd.DataFrame(pastas_e_arquivos)\n",
    "\n",
    "print(df)\n"
   ]
  },
  {
   "cell_type": "code",
   "execution_count": 32,
   "metadata": {},
   "outputs": [],
   "source": [
    "import os\n",
    "import cv2\n",
    "\n",
    "diretorio_origem = '../SkinCancerClassifier/dados/bcc/'\n",
    "diretorio_destino = '../SkinCancerClassifier/dados/bcc_aum/'\n",
    "\n",
    "for nome_imagem in os.listdir(diretorio_origem):\n",
    "    if nome_imagem.endswith(\".jpg\") or nome_imagem.endswith(\".png\"):\n",
    "        caminho_imagem = os.path.join(diretorio_origem, nome_imagem)\n",
    "        imagem = cv2.imread(caminho_imagem)\n",
    "        if imagem is not None:\n",
    "            imagem_rotacionada = cv2.rotate(imagem, cv2.ROTATE_90_CLOCKWISE)\n",
    "            imagem_transformada = cv2.flip(imagem_rotacionada, 1)\n",
    "            \n",
    "            nome_saida = os.path.splitext(nome_imagem)[0] + \"_rot90_flipH.jpg\"\n",
    "            caminho_saida = os.path.join(diretorio_destino, nome_saida)\n",
    "            cv2.imwrite(caminho_saida, imagem_transformada)\n"
   ]
  },
  {
   "cell_type": "code",
   "execution_count": 24,
   "metadata": {},
   "outputs": [],
   "source": [
    "for nome_imagem in os.listdir(diretorio_origem):\n",
    "    if nome_imagem.endswith(\".jpg\") or nome_imagem.endswith(\".png\"):\n",
    "        caminho_imagem = os.path.join(diretorio_origem, nome_imagem)\n",
    "        imagem = cv2.imread(caminho_imagem)\n",
    "        if imagem is not None:\n",
    "            imagem_rotacionada = cv2.rotate(imagem, cv2.ROTATE_90_CLOCKWISE)\n",
    "            imagem_transformada = cv2.flip(imagem_rotacionada, 0)\n",
    "            \n",
    "            nome_saida = os.path.splitext(nome_imagem)[0] + \"_rot90_flipV.jpg\"\n",
    "            caminho_saida = os.path.join(diretorio_destino, nome_saida)\n",
    "            cv2.imwrite(caminho_saida, imagem_transformada)\n"
   ]
  },
  {
   "cell_type": "code",
   "execution_count": 28,
   "metadata": {},
   "outputs": [],
   "source": [
    "for nome_imagem in os.listdir(diretorio_origem):\n",
    "    if nome_imagem.endswith(\".jpg\") or nome_imagem.endswith(\".png\"):\n",
    "        caminho_imagem = os.path.join(diretorio_origem, nome_imagem)\n",
    "        imagem = cv2.imread(caminho_imagem)\n",
    "        if imagem is not None:\n",
    "            imagem_rotacionada = cv2.rotate(imagem, cv2.ROTATE_180)\n",
    "            imagem_transformada = cv2.flip(imagem_rotacionada, 0)\n",
    "            \n",
    "            nome_saida = os.path.splitext(nome_imagem)[0] + \"_rot180_flipV.jpg\"\n",
    "            caminho_saida = os.path.join(diretorio_destino, nome_saida)\n",
    "            cv2.imwrite(caminho_saida, imagem_transformada)\n"
   ]
  },
  {
   "cell_type": "code",
   "execution_count": 31,
   "metadata": {},
   "outputs": [],
   "source": [
    "for nome_imagem in os.listdir(diretorio_origem):\n",
    "    if nome_imagem.endswith(\".jpg\") or nome_imagem.endswith(\".png\"):\n",
    "        caminho_imagem = os.path.join(diretorio_origem, nome_imagem)\n",
    "        imagem = cv2.imread(caminho_imagem)\n",
    "        if imagem is not None:\n",
    "            imagem_rotacionada = cv2.rotate(imagem, cv2.ROTATE_180)\n",
    "            imagem_transformada = cv2.flip(imagem_rotacionada, 1)\n",
    "            \n",
    "            nome_saida = os.path.splitext(nome_imagem)[0] + \"_rot180_flipH.jpg\"\n",
    "            caminho_saida = os.path.join(diretorio_destino, nome_saida)\n",
    "            cv2.imwrite(caminho_saida, imagem_transformada)\n"
   ]
  },
  {
   "cell_type": "code",
   "execution_count": 12,
   "metadata": {},
   "outputs": [
    {
     "name": "stdout",
     "output_type": "stream",
     "text": [
      "  Pasta  Quantidade de Arquivos\n",
      "0     2                     252\n",
      "1     1                     183\n",
      "2     3                      83\n",
      "3    -1                     128\n",
      "4     0                      71\n",
      "5    -2                     120\n",
      "6    -3                     115\n"
     ]
    }
   ],
   "source": [
    "import os\n",
    "import pandas as pd\n",
    "\n",
    "diretorio = '/home/arthur/Projetos/SPLIT_IMG/val/'  # Substitua pelo caminho do seu diretório\n",
    "\n",
    "pastas_e_arquivos = []\n",
    "\n",
    "for pasta in os.listdir(diretorio):\n",
    "    if os.path.isdir(os.path.join(diretorio, pasta)):\n",
    "        num_arquivos = len(os.listdir(os.path.join(diretorio, pasta)))\n",
    "        pastas_e_arquivos.append({'Pasta': pasta, 'Quantidade de Arquivos': num_arquivos})\n",
    "\n",
    "df = pd.DataFrame(pastas_e_arquivos)\n",
    "\n",
    "print(df)\n"
   ]
  }
 ],
 "metadata": {
  "kernelspec": {
   "display_name": "skincancer",
   "language": "python",
   "name": "python3"
  },
  "language_info": {
   "codemirror_mode": {
    "name": "ipython",
    "version": 3
   },
   "file_extension": ".py",
   "mimetype": "text/x-python",
   "name": "python",
   "nbconvert_exporter": "python",
   "pygments_lexer": "ipython3",
   "version": "3.10.0"
  },
  "orig_nbformat": 4
 },
 "nbformat": 4,
 "nbformat_minor": 2
}
